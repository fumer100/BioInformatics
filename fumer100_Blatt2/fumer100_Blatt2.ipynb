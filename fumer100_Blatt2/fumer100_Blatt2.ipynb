{
 "cells": [
  {
   "cell_type": "markdown",
   "id": "fc5be9ef",
   "metadata": {},
   "source": [
    " Blatt 2                                                               fumer100"
   ]
  },
  {
   "cell_type": "code",
   "execution_count": 1,
   "id": "5cbc8673",
   "metadata": {},
   "outputs": [],
   "source": [
    "import sys\n",
    "import numpy as np\n",
    "def LGT(v,w):\n",
    "    S = np.zeros(((len(v)+1),(len(w)+1)))\n",
    "    for i in range(1,len(v)+1):\n",
    "        for j in range(1,len(w)+1):\n",
    "            if(v[i-1]==w[j-1]):\n",
    "                S[i,j]=max(S[i-1,j],S[i,j-1],S[i-1,j-1]+1)\n",
    "            else:\n",
    "                S[i,j]=max(S[i-1,j],S[i,j-1])\n",
    "    return S\n",
    "\n",
    "v = \"ATGCG\"\n",
    "w = \"ATCCGC\"\n",
    "S=LGT(v,w)\n",
    "np.savetxt('S.txt', S,fmt='%d' ,delimiter=',')"
   ]
  },
  {
   "cell_type": "code",
   "execution_count": 6,
   "id": "67284144",
   "metadata": {},
   "outputs": [
    {
     "name": "stdout",
     "output_type": "stream",
     "text": [
      "[[ 0. -1. -2. -3. -4. -5. -6.]\n",
      " [-1.  1.  1.  1.  1.  1.  1.]\n",
      " [-2.  1.  2.  2.  2.  2.  2.]\n",
      " [-3.  1.  2.  2.  2.  3.  3.]\n",
      " [-4.  1.  2.  3.  3.  3.  4.]\n",
      " [-5.  1.  2.  3.  3.  4.  4.]]\n",
      "[[None None None None None None None]\n",
      " [None 'oben-links' 'links' 'links' 'links' 'links' 'links']\n",
      " [None 'oben' 'oben-links' 'links' 'links' 'links' 'links']\n",
      " [None 'oben' 'oben' 'oben/links' 'oben/links' 'oben-links' 'links']\n",
      " [None 'oben' 'oben' 'oben-links' 'oben-links' 'oben/links' 'oben-links']\n",
      " [None 'oben' 'oben' 'oben' 'oben/links' 'oben-links' 'oben/links']]\n"
     ]
    }
   ],
   "source": [
    "import numpy as np\n",
    "def lgt(v,w):\n",
    "    S = np.zeros(((len(v)+1),(len(w)+1)))\n",
    "    B = np.empty(((len(v)+1),(len(w)+1)),dtype=object)\n",
    "    for a in range(0,1):\n",
    "        for b in range(0,len(w)+1):\n",
    "            S[a,b]=b*-1\n",
    "    for c in range(0,len(v)+1):\n",
    "        for d in range(0,1):\n",
    "            S[c,d]=c*-1\n",
    "    for i in range(1,len(v)+1):\n",
    "        for j in range(1,len(w)+1):\n",
    "            if(v[i-1]==w[j-1]):\n",
    "                S[i,j]=max(S[i-1,j],S[i,j-1],S[i-1,j-1]+1)\n",
    "                if(max(S[i-1,j],S[i,j-1],S[i-1,j-1]+1)==S[i-1,j]):\n",
    "                    B[i,j]=\"oben\"\n",
    "                if(max(S[i-1,j],S[i,j-1],S[i-1,j-1]+1)==S[i,j-1]):\n",
    "                    B[i,j]=\"links\"\n",
    "                if(max(S[i-1,j],S[i,j-1],S[i-1,j-1]+1)==S[i-1,j-1]+1):\n",
    "                    B[i,j]=\"oben-links\"\n",
    "            else:                                                                                                                                                                                                                                                                                                                                                                                                                                                                                                                                                                                                                                                                                                                                                                                                                                                                                                                                                                                                                                                                                                                                                                                                                                                                                                                                                                                                                                                                                                                                                                                                                      \n",
    "                S[i,j]=max(S[i-1,j],S[i,j-1])\n",
    "                if(S[i-1,j]==S[i,j-1]):\n",
    "                    B[i,j]=\"oben/links\"\n",
    "                elif(max(S[i-1,j],S[i,j-1])==S[i-1,j]):\n",
    "                    B[i,j]=\"oben\"\n",
    "                elif(max(S[i-1,j],S[i,j-1])==S[i,j-1]):\n",
    "                    B[i,j]=\"links\"\n",
    "    \n",
    "    score=S[(len(v))][(len(w))]\n",
    "    print(S)\n",
    "    print(B)\n",
    "    return (score,B)\n",
    "\n",
    "v = \"ATGCG\"\n",
    "w = \"ATCCGC\"\n",
    "S=lgt(v,w)\n",
    "\n"
   ]
  },
  {
   "cell_type": "code",
   "execution_count": null,
   "id": "179691ab",
   "metadata": {},
   "outputs": [],
   "source": []
  },
  {
   "cell_type": "code",
   "execution_count": null,
   "id": "8954aee0",
   "metadata": {},
   "outputs": [],
   "source": []
  }
 ],
 "metadata": {
  "kernelspec": {
   "display_name": "Python 3 (ipykernel)",
   "language": "python",
   "name": "python3"
  },
  "language_info": {
   "codemirror_mode": {
    "name": "ipython",
    "version": 3
   },
   "file_extension": ".py",
   "mimetype": "text/x-python",
   "name": "python",
   "nbconvert_exporter": "python",
   "pygments_lexer": "ipython3",
   "version": "3.9.7"
  }
 },
 "nbformat": 4,
 "nbformat_minor": 5
}
