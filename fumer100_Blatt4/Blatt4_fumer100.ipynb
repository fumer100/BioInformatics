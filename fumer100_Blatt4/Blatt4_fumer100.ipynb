{
 "cells": [
  {
   "cell_type": "markdown",
   "id": "80190528",
   "metadata": {},
   "source": [
    "Blatt 4 fumer100"
   ]
  },
  {
   "cell_type": "code",
   "execution_count": 5,
   "id": "2c15f4fb",
   "metadata": {
    "scrolled": true
   },
   "outputs": [],
   "source": [
    "#A2 Downsampling\n",
    "import numpy as np\n",
    "import random as r\n",
    "def downsampling(file):#1\n",
    "    allTrees = open(file,'r')\n",
    "    setA=[]\n",
    "    setB=[]\n",
    "    for line in allTrees:\n",
    "        if line[0]=='A':\n",
    "            setA.append(line[2:].replace(\"\\n\",\"\"))\n",
    "        if line[0]=='B':\n",
    "            setB.append(line[2:].replace(\"\\n\",\"\"))\n",
    "    \n",
    "    setAWithMaxNodes=saveTreesWithMaxNodes(setA)\n",
    "    setBWithMaxNodes=saveTreesWithMaxNodes(setB)\n",
    "    A, B = compareAndDelete(sortInto2DArray(setAWithMaxNodes),sortInto2DArray(setBWithMaxNodes))\n",
    "    printTreeA(A)\n",
    "    printTreeB(B)\n",
    "    \n",
    "def saveTreesWithMaxNodes(treeSets):#2\n",
    "    treesWithMaxNodes=[]\n",
    "    for i in range(0,len(treeSets)):\n",
    "        treesWithMaxNodes.append((extractMaximum(treeSets[i]),treeSets[i]))\n",
    "    treesWithMaxNodes.sort(key=lambda tup: tup[0])\n",
    "    return treesWithMaxNodes \n",
    "\n",
    "def sortInto2DArray(sortedTrees):#3\n",
    "    array=[ []*1 for i in range(10)]\n",
    "    for i in range(1,10):\n",
    "        for tree in sortedTrees:\n",
    "            if tree[0]==i:\n",
    "                array[i].append(tree[1])     \n",
    "    return(array)        \n",
    "        \n",
    "def extractMaximum(ss):\n",
    "    num, res = 0, 0\n",
    "    for i in range(len(ss)):\n",
    "        if ss[i] >= \"0\" and ss[i] <= \"9\":\n",
    "            num = num * 10 + int(int(ss[i]) - 0)\n",
    "        else:\n",
    "            res = max(res, num)\n",
    "            num = 0     \n",
    "    return max(res, num)\n",
    "            \n",
    "def compareAndDelete(A,B):#4\n",
    "    for i in range(0,10):\n",
    "        while len(A[i])>len(B[i]):\n",
    "            A[i].pop(r.randrange(len(A[i])))\n",
    "\n",
    "        while len(A[i])<len(B[i]):\n",
    "            B[i].pop(r.randrange(len(B[i])))\n",
    "  \n",
    "    return(A,B)\n",
    "\n",
    "def printTreeA(treeSets):\n",
    "    textfile = open(\"A_prime.txt\",'w')\n",
    "    for i in range(0,9):\n",
    "        for element in treeSets[i]:\n",
    "            textfile.write(element + \"\\n\")\n",
    "    textfile.close()\n",
    "\n",
    "def printTreeB(treeSets):\n",
    "    textfile = open(\"B_prime.txt\", 'w')\n",
    "    for i in range(0, 9):\n",
    "        for element in treeSets[i]:\n",
    "            textfile.write(element + \"\\n\")\n",
    "    textfile.close()\n",
    "\n",
    "    \n",
    "    \n",
    "    \n",
    "downsampling('Dateien/trees.txt')\n"
   ]
  },
  {
   "cell_type": "markdown",
   "id": "8f7727f2",
   "metadata": {},
   "source": [
    "A3\n",
    "<img src=Aufgabe3.jpg>\n"
   ]
  },
  {
   "cell_type": "markdown",
   "id": "2dda8c77",
   "metadata": {},
   "source": [
    "A4\n",
    "<img src=Aufgabe4.jpg>"
   ]
  },
  {
   "cell_type": "code",
   "execution_count": 21,
   "id": "20319fee",
   "metadata": {},
   "outputs": [
    {
     "name": "stdout",
     "output_type": "stream",
     "text": [
      "-1\n"
     ]
    }
   ],
   "source": [
    "#A5 comp_ss\n",
    "def comp_ss (split1,split2):\n",
    "    if extractMaximum(split1) and extractMaximum(split2) < 4:\n",
    "        return -1\n",
    "    cleanString = split1.removesuffix('}}').removeprefix('{{').split(\"},{\")\n",
    "    cleanTuple1_1 = tuple(map(int, cleanString[0].split(',')))\n",
    "    cleanTuple1_2 = tuple(map(int, cleanString[1].split(',')))\n",
    "    set1_1 = set(cleanTuple1_1)\n",
    "    set1_2 = set(cleanTuple1_2)\n",
    "    cleanString = split2.removesuffix('}}').removeprefix('{{').split(\"},{\")\n",
    "    cleanTuple2_1 = tuple(map(int, cleanString[0].split(',')))\n",
    "    cleanTuple2_2 = tuple(map(int, cleanString[1].split(',')))\n",
    "    set2_1 = set(cleanTuple2_1)\n",
    "    set2_2 = set(cleanTuple2_2)\n",
    "    return intersectionScore(set1_1,set1_2,set2_1,set2_2)\n",
    "\n",
    "def intersectionScore(set1_1,set1_2,set2_1,set2_2):\n",
    "    \n",
    "    score = 0\n",
    "    if (set1_1) &(set1_2) or (set1_1) & (set2_2) or (set2_1) & (set1_2) or (set2_1) & (set2_2) :\n",
    "        score = score+1\n",
    "    else:\n",
    "        score = score+0\n",
    "    return score\n",
    "def reduceStrings(split1,split2):\n",
    "    if\n",
    "def extractMaximum(ss):\n",
    "    num, res = 0, 0\n",
    "    for i in range(len(ss)):\n",
    "        if ss[i] >= \"0\" and ss[i] <= \"9\":\n",
    "            num = num * 10 + int(int(ss[i]) - 0)\n",
    "        else:\n",
    "            res = max(res, num)\n",
    "            num = 0     \n",
    "    return max(res, num)\n",
    "\n",
    "print(comp_ss(\"{{1,2},{3,4,5,6,7,8,9}}\",\"{{4,5},{1,2,3,6,7,8,9}}\"))\n"
   ]
  },
  {
   "cell_type": "code",
   "execution_count": 19,
   "id": "da980ba6",
   "metadata": {},
   "outputs": [
    {
     "name": "stdout",
     "output_type": "stream",
     "text": [
      "['{{7,1,8,5,6,2,4},{3}}', '{{7,1,8,5,6,2},{4,3}}', '{{2,1,7,6},{8,4,5,3}}', '{{2,1,7},{8,4,5,3,6}}', '{{2,1},{7,3,8,5,6,4}}', '{{1},{7,3,8,5,6,2,4}}', '{{2},{7,1,3,8,5,6,4}}', '{{7},{1,3,8,5,6,2,4}}', '{{6},{7,1,3,8,5,2,4}}', '{{8,5},{7,1,3,6,2,4}}', '{{5},{7,1,3,8,6,2,4}}', '{{8},{7,1,3,5,6,2,4}}', '{{4},{7,1,3,8,5,6,2}}', '{{3},{7,1,8,5,6,2,4}}']\n"
     ]
    }
   ],
   "source": [
    "#A6 comp_st\n",
    "def read_tree(file):\n",
    "    tree = open(file,'r')\n",
    "    bipartitions=[]\n",
    "    for bipartition in tree:\n",
    "        bipartitions.append(bipartition.replace(\"\\n\",\"\"))\n",
    "    print(bipartitions)\n",
    "    \n",
    "def comp_st(split,tree):\n",
    "    \n",
    "def comp_ss (split1,split2):\n",
    "    cleanString = split1.removesuffix('}}').removeprefix('{{').split(\"},{\")\n",
    "    cleanTuple1_1 = tuple(map(int, cleanString[0].split(',')))\n",
    "    cleanTuple1_2 = tuple(map(int, cleanString[1].split(',')))\n",
    "    set1_1 = set(cleanTuple1_1)\n",
    "    set1_2 = set(cleanTuple1_2)\n",
    "    cleanString = split2.removesuffix('}}').removeprefix('{{').split(\"},{\")\n",
    "    cleanTuple2_1 = tuple(map(int, cleanString[0].split(',')))\n",
    "    cleanTuple2_2 = tuple(map(int, cleanString[1].split(',')))\n",
    "    set2_1 = set(cleanTuple2_1)\n",
    "    set2_2 = set(cleanTuple2_2)\n",
    "    return intersectionScore(set1_1,set1_2,set2_1,set2_2)\n",
    "\n",
    "def intersectionScore(set1_1,set1_2,set2_1,set2_2):\n",
    "    score = 0\n",
    "    if (set1_1) &(set1_2) or (set1_1) & (set2_2) or (set2_1) & (set1_2) or (set2_1) & (set2_2) :\n",
    "        score = score+1\n",
    "    else:\n",
    "        score = score+0\n",
    "    return score    \n",
    "read_tree(\"Dateien/tree1_bip.txt\")"
   ]
  },
  {
   "cell_type": "code",
   "execution_count": null,
   "id": "d289c173",
   "metadata": {},
   "outputs": [],
   "source": []
  }
 ],
 "metadata": {
  "kernelspec": {
   "display_name": "Python 3 (ipykernel)",
   "language": "python",
   "name": "python3"
  },
  "language_info": {
   "codemirror_mode": {
    "name": "ipython",
    "version": 3
   },
   "file_extension": ".py",
   "mimetype": "text/x-python",
   "name": "python",
   "nbconvert_exporter": "python",
   "pygments_lexer": "ipython3",
   "version": "3.9.7"
  }
 },
 "nbformat": 4,
 "nbformat_minor": 5
}
