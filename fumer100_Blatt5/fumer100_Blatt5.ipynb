{
 "cells": [
  {
   "cell_type": "markdown",
   "id": "0af78f58",
   "metadata": {},
   "source": [
    "Blatt5 fumer100"
   ]
  },
  {
   "cell_type": "code",
   "execution_count": null,
   "id": "76445b99",
   "metadata": {},
   "outputs": [],
   "source": [
    "#A1 Structure\n",
    "unrooted = [(1, 6), (6, 1), (6, 2), (2, 6), (6, 7), (7, 6), (7, 3), (3, 7), (7, 8), (8, 7), (8, 5), (5, 8), (8, 4), (4, 8)]\n",
    "print(baum)"
   ]
  },
  {
   "cell_type": "code",
   "execution_count": 161,
   "id": "50793a5d",
   "metadata": {},
   "outputs": [
    {
     "name": "stdout",
     "output_type": "stream",
     "text": [
      "[(6, 2), (8, 4), (6, 1), (9, 6), (7, 3), (9, 7), (8, 5), (7, 8)] 9\n"
     ]
    }
   ],
   "source": [
    "#A2 Root\n",
    "import numpy as np\n",
    "def do_rooting(baum, ast):\n",
    "    tree=baum.copy()\n",
    "    if isPartofTree(tree, ast):\n",
    "        rootNumber = getNextRootNumber(tree)\n",
    "        for i in tree:\n",
    "            if i == ast:\n",
    "                indexOfRoot = tree.index(i)\n",
    "                tree.insert(indexOfRoot, (rootNumber, ast[0]))\n",
    "                tree.insert(indexOfRoot+1, (rootNumber, ast[1]))\n",
    "                tree.remove(ast)\n",
    "                \n",
    "                rootedTree = root(tree, indexOfRoot)\n",
    "                \n",
    "    return(rootedTree,rootNumber)\n",
    "\n",
    "def root (tree, index):\n",
    "    goodTwigs=[tree[index],tree[index+1]]\n",
    "    badTwigs=[]\n",
    "    currentTwig=goodTwigs[0]\n",
    "    rootedTree=[]\n",
    "    \n",
    "    while len(goodTwigs)!=0:\n",
    "        currentTwig=goodTwigs[0]\n",
    "        \n",
    "        for i in tree:\n",
    "            if(currentTwig[1]==i[1]):\n",
    "                badTwigs.append(i)\n",
    "                \n",
    "        tree = [twig for twig in tree if twig not in badTwigs]\n",
    "        \n",
    "        for i in tree:\n",
    "            if(currentTwig[1]==i[0]):\n",
    "                goodTwigs.append(i)\n",
    "                \n",
    "        rootedTree.append(goodTwigs[0])\n",
    "        goodTwigs.pop(0)\n",
    "        \n",
    "    return list(set(rootedTree+tree))\n",
    "\n",
    "\n",
    "def getNextRootNumber(baum):\n",
    "    maxValue = 0\n",
    "    for i in baum:\n",
    "        if i[0] >= maxValue:\n",
    "            maxValue = i[0]\n",
    "    return maxValue+1\n",
    "\n",
    "def isPartofTree(baum,ast):\n",
    "    for i in baum:\n",
    "        if ast == i:\n",
    "            return True\n",
    "    return False\n",
    "\n",
    "\n",
    "unrooted = [(1, 6), (6, 1), (2, 6), (6, 2), (6, 7), (7, 6), (7, 3), (3, 7), (7, 8), (8, 7), (8, 5), (5, 8), (8, 4), (4, 8)]\n",
    "(rooted,rootnode)=do_rooting(unrooted, (6,7))\n",
    "print(rooted,rootnode)\n"
   ]
  },
  {
   "cell_type": "code",
   "execution_count": 2,
   "id": "613759fa",
   "metadata": {},
   "outputs": [
    {
     "name": "stdout",
     "output_type": "stream",
     "text": [
      "(1, 6) [(6, 2), (8, 4), (9, 6), (7, 3), (6, 7), (9, 1), (8, 5), (7, 8)]\n",
      "(6, 1) [(6, 2), (8, 4), (9, 6), (7, 3), (6, 7), (9, 1), (8, 5), (7, 8)]\n",
      "(2, 6) [(8, 4), (6, 1), (9, 6), (9, 2), (7, 3), (6, 7), (8, 5), (7, 8)]\n",
      "(6, 2) [(8, 4), (6, 1), (9, 6), (9, 2), (7, 3), (6, 7), (8, 5), (7, 8)]\n",
      "(6, 7) [(6, 2), (8, 4), (6, 1), (9, 6), (7, 3), (9, 7), (8, 5), (7, 8)]\n",
      "(7, 6) [(6, 2), (8, 4), (6, 1), (9, 6), (7, 3), (9, 7), (8, 5), (7, 8)]\n",
      "(7, 3) [(6, 2), (8, 4), (9, 3), (6, 1), (7, 6), (9, 7), (8, 5), (7, 8)]\n",
      "(3, 7) [(6, 2), (8, 4), (9, 3), (6, 1), (7, 6), (9, 7), (8, 5), (7, 8)]\n",
      "(7, 8) [(6, 2), (8, 4), (6, 1), (7, 3), (7, 6), (9, 8), (9, 7), (8, 5)]\n",
      "(8, 7) [(6, 2), (8, 4), (6, 1), (7, 3), (7, 6), (9, 8), (9, 7), (8, 5)]\n",
      "(8, 5) [(6, 2), (8, 4), (8, 7), (6, 1), (7, 3), (9, 5), (7, 6), (9, 8)]\n",
      "(5, 8) [(6, 2), (8, 4), (8, 7), (6, 1), (7, 3), (9, 5), (7, 6), (9, 8)]\n",
      "(8, 4) [(6, 2), (8, 7), (6, 1), (7, 3), (7, 6), (9, 8), (8, 5), (9, 4)]\n",
      "(4, 8) [(6, 2), (8, 7), (6, 1), (7, 3), (7, 6), (9, 8), (8, 5), (9, 4)]\n"
     ]
    }
   ],
   "source": [
    "#A3 Roots\n",
    "def do_rooting(baum, ast):\n",
    "    tree=baum.copy()\n",
    "    if isPartofTree(tree, ast):\n",
    "        rootNumber = getNextRootNumber(tree)\n",
    "        for i in tree:\n",
    "            if i == ast:\n",
    "                indexOfRoot = tree.index(i)\n",
    "                tree.insert(indexOfRoot, (rootNumber, ast[0]))\n",
    "                tree.insert(indexOfRoot+1, (rootNumber, ast[1]))\n",
    "                tree.remove(ast)\n",
    "                \n",
    "                rootedTree = root(tree, indexOfRoot)\n",
    "                \n",
    "    return rootedTree\n",
    "\n",
    "def root (tree, index):\n",
    "    goodTwigs=[tree[index],tree[index+1]]\n",
    "    badTwigs=[]\n",
    "    currentTwig=goodTwigs[0]\n",
    "    rootedTree=[]\n",
    "    \n",
    "    while len(goodTwigs)!=0:\n",
    "        currentTwig=goodTwigs[0]\n",
    "        \n",
    "        for i in tree:\n",
    "            if(currentTwig[1]==i[1]):\n",
    "                badTwigs.append(i)\n",
    "                \n",
    "        tree = [twig for twig in tree if twig not in badTwigs]\n",
    "        \n",
    "        for i in tree:\n",
    "            if(currentTwig[1]==i[0]):\n",
    "                goodTwigs.append(i)\n",
    "                \n",
    "        rootedTree.append(goodTwigs[0])\n",
    "        goodTwigs.pop(0)\n",
    "        \n",
    "    return list(set(rootedTree+tree))\n",
    "\n",
    "\n",
    "def getNextRootNumber(baum):\n",
    "    maxValue = 0\n",
    "    for i in baum:\n",
    "        if i[0] >= maxValue:\n",
    "            maxValue = i[0]\n",
    "    return maxValue+1\n",
    "\n",
    "def isPartofTree(baum,ast):\n",
    "    for i in baum:\n",
    "        if ast == i:\n",
    "            return True\n",
    "    return False\n",
    "\n",
    "\n",
    "unrooted = [(1, 6), (6, 1), (2, 6), (6, 2), (6, 7), (7, 6), (7, 3), (3, 7), (7, 8), (8, 7), (8, 5), (5, 8), (8, 4), (4, 8)]\n",
    "for i in unrooted:\n",
    "    print(i,do_rooting(unrooted,i))"
   ]
  },
  {
   "cell_type": "code",
   "execution_count": 6,
   "id": "25a41247",
   "metadata": {},
   "outputs": [
    {
     "name": "stdout",
     "output_type": "stream",
     "text": [
      "[(6, 2), (8, 4), (9, 6), (7, 3), (6, 7), (9, 1), (8, 5), (7, 8)]\n",
      "[(8, 4), (9, 6), (7, 3), (9, 1), (8, 5), (7, 8)]\n"
     ]
    }
   ],
   "source": [
    "def newick_write(rootedTree,rootNode):\n",
    "    print(rootedTree)\n",
    "    for i in rootedTree:\n",
    "        if i[0]==rootNode:\n",
    "             \n",
    "            rootedTree.remove(i)\n",
    "    print(rootedTree)\n",
    "    \n",
    "    \n",
    "    \n",
    "newick_write(do_rooting(unrooted,(1,6)),6)    "
   ]
  },
  {
   "cell_type": "code",
   "execution_count": null,
   "id": "2cf5e1eb",
   "metadata": {},
   "outputs": [],
   "source": []
  }
 ],
 "metadata": {
  "kernelspec": {
   "display_name": "Python 3 (ipykernel)",
   "language": "python",
   "name": "python3"
  },
  "language_info": {
   "codemirror_mode": {
    "name": "ipython",
    "version": 3
   },
   "file_extension": ".py",
   "mimetype": "text/x-python",
   "name": "python",
   "nbconvert_exporter": "python",
   "pygments_lexer": "ipython3",
   "version": "3.9.7"
  }
 },
 "nbformat": 4,
 "nbformat_minor": 5
}
