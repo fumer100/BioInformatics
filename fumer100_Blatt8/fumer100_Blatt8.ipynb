{
 "cells": [
  {
   "cell_type": "markdown",
   "id": "349040d7",
   "metadata": {},
   "source": [
    "Blatt 8 fumer100"
   ]
  },
  {
   "cell_type": "code",
   "execution_count": 4,
   "id": "b9e63ecd",
   "metadata": {},
   "outputs": [
    {
     "name": "stdout",
     "output_type": "stream",
     "text": [
      "['YAL054C', 'YBL015W', 'YBL049W', 'YDL085w', 'YDR178W', 'YDR343C', 'YDR529C', 'YDR533C', 'YEL011w', 'YER024w', 'YER053c', 'YER065c', 'YFR015C', 'YGL259W', 'YHL021C', 'YHR096C', 'YIL125W', 'YJL089W', 'YJR095W', 'YKL085W', 'YKL109W', 'YKL141W', 'YKL187C', 'YKR097W', 'YLL026w', 'YLL041c', 'YLR149C', 'YLR174W', 'YLR267W', 'YLR304C', 'YLR377C', 'YML054C', 'YNL117W', 'YNR001C', 'YOL084W', 'YOR374W', 'YPR184W']\n",
      "['YDL204w', 'YML128C']\n",
      "['YAL003W', 'YDL083C', 'YDR144C', 'YGL076C', 'YGR160W', 'YIL053W', 'YIL069C', 'YKL009W', 'YLL044W', 'YLR142w', 'YLR355C', 'YLR448W', 'YML128C', 'YMR093W', 'YMR290C', 'YNL141W', 'YNL175C', 'YNL303W', 'YPL012W', 'YPR137W']\n",
      "['YBL064C', 'YBR072W', 'YBR147W', 'YDL204w', 'YER067w', 'YGR043C', 'YGR088W', 'YGR236C', 'YGR243W', 'YGR248W', 'YIL136W', 'YKL026C', 'YKL217W', 'YLR258W', 'YLR327C', 'YMR105C', 'YMR170C', 'YNL015W', 'YNL194C', 'YNL200C', 'YOR215C', 'YPL012W']\n",
      "['YAL012W', 'YAL038W', 'YBL027W', 'YBL043W', 'YBL045C', 'YBL048W', 'YBL078C', 'YBL100C', 'YBL108W', 'YBR032W', 'YBR048W', 'YBR051W', 'YBR116C', 'YBR117C', 'YBR139W', 'YBR181C', 'YBR183W', 'YBR189W', 'YBR191W', 'YBR238C', 'YBR241C', 'YBR247C', 'YBR249C', 'YCL025C', 'YCL035C', 'YCR010C', 'YDL136w', 'YDL199c', 'YDL208W', 'YDL215C', 'YDR025W', 'YDR031w', 'YDR060w', 'YDR064W', 'YDR070c', 'YDR258C', 'YDR272W', 'YDR342C', 'YDR382W', 'YDR398W', 'YDR417C', 'YDR418W', 'YDR516C', 'YEL012w', 'YEL024w', 'YEL054c', 'YER131w', 'YFL054C', 'YFR033C', 'YFR053C', 'YGL031C', 'YGL037C', 'YGL078C', 'YGL102C', 'YGL191W', 'YGR008C', 'YGR067C', 'YGR103W', 'YGR148C', 'YGR214W', 'YGR244C', 'YGR264C', 'YHL015W', 'YHL033C', 'YHR051W', 'YHR087W', 'YHR089C', 'YHR104W', 'YHR128W', 'YIL018W', 'YIL111W', 'YIL113W', 'YIL162W', 'YJL045W', 'YJL109C', 'YJL136C', 'YJL148W', 'YJL177W', 'YJL190C', 'YJR095W', 'YJR096W', 'YJR123W', 'YJR145C', 'YKL081W', 'YKL103C', 'YKL142W', 'YKL151C', 'YKL193C', 'YKR059W', 'YLL045c', 'YLR048w', 'YLR062C', 'YLR076C', 'YLR129w', 'YLR175W', 'YLR178C', 'YLR180W', 'YLR186W', 'YLR196W', 'YLR198C', 'YLR249W', 'YLR270W', 'YLR312C', 'YLR325C', 'YLR339C', 'YLR340W', 'YLR344W', 'YLR356W', 'YLR413W', 'YLR449W', 'YML063W', 'YML123C', 'YMR090W', 'YMR107W', 'YMR121C', 'YMR131C', 'YMR191W', 'YMR217W', 'YNL002C', 'YNL052W', 'YNL065W', 'YNL067W', 'YNL069C', 'YNL096C', 'YNL119W', 'YNL134C', 'YNL141W', 'YNL173C', 'YNL174W', 'YNL195C', 'YNL274C', 'YNL301C', 'YNL305C', 'YNR053C', 'YOL032W', 'YOL039W', 'YOL040C', 'YOL053C', 'YOL120C', 'YOR065W', 'YOR178C', 'YOR234C', 'YOR309C', 'YOR310C', 'YOR312C', 'YPL131W', 'YPL220W', 'YPL226W', 'YPR149W']\n",
      "['YCR021c', 'YDR171W', 'YER150w', 'YFL014W', 'YKL217W', 'YMR250W', 'YNL160W']\n"
     ]
    }
   ],
   "source": [
    "import random\n",
    "import math\n",
    "\n",
    "\n",
    "def importVectors(listOfVectors):\n",
    "    with open('data.txt') as openfileobject:\n",
    "        next(openfileobject)\n",
    "        for line in openfileobject:\n",
    "            vektorListe = list(line[8:len(line) - 1].replace('\\t', ', ').split(','))\n",
    "            listOfVectors.append(\n",
    "                dict({'GEN': line[0:7], 'Vektor': vektorListe}))\n",
    "    return listOfVectors\n",
    "\n",
    "\n",
    "def heuristic(listOfVectors, k):\n",
    "    Centers = [random.choice(listOfVectors)]\n",
    "    Centers.append(dMax(Centers[-1], {'GEN': 'NoPRev', 'Vektor': []}, listOfVectors))\n",
    "    while len(Centers) < k:\n",
    "        Centers.append(dMax(Centers[-1], Centers, listOfVectors))\n",
    "    groupIntoClusters(Centers, listOfVectors)\n",
    "\n",
    "\n",
    "def checkDuplicateCenter(gen, Centers):\n",
    "    for center in Centers:\n",
    "        if center == gen:\n",
    "            return False\n",
    "    return True\n",
    "\n",
    "\n",
    "def dMax(dataPoint, Centers, listOfVectors):\n",
    "    maxDistance = 0\n",
    "    maxDistanceVektor = {}\n",
    "    for gen in listOfVectors:\n",
    "        if maxDistance < distanceBetweenVectors(dataPoint.get('Vektor'), gen.get('Vektor')):\n",
    "            if checkDuplicateCenter(gen, Centers):\n",
    "                maxDistance = distanceBetweenVectors(dataPoint.get('Vektor'), gen.get('Vektor'))\n",
    "                maxDistanceVektor = gen\n",
    "    return maxDistanceVektor\n",
    "\n",
    "\n",
    "def distanceBetweenVectors(a, b):\n",
    "    distance = 0\n",
    "    for i in range(0, len(a)):\n",
    "        distance = distance + (float(a[i]) - float(b[i])) * (float(a[i]) - float(b[i]))\n",
    "\n",
    "    distance = math.sqrt(distance)\n",
    "    return distance\n",
    "\n",
    "\n",
    "def groupIntoClusters(Centers, listOfVectors):\n",
    "    Clusters = [[] for _ in range(len(Centers))]\n",
    "    for i in range(0, len(Centers)):\n",
    "        Clusters[i].append(Centers[i].get('GEN'))\n",
    "    for gen in listOfVectors:\n",
    "        index = 0\n",
    "        distancesToCenters = []\n",
    "        for center in Centers:\n",
    "            if gen.get('GEN') != center.get('GEN'):\n",
    "                distancesToCenters.append(distanceBetweenVectors(gen.get('Vektor'), center.get('Vektor')))\n",
    "                index = distancesToCenters.index(min(distancesToCenters))\n",
    "        Clusters[index].append(gen.get('GEN'))\n",
    "    printClusters(Clusters)\n",
    "\n",
    "def printClusters(Clusters):\n",
    "    for i in range(0,len(Clusters)):\n",
    "        print(sorted(Clusters[i]))\n",
    "\n",
    "listOfVectors = []\n",
    "importedVectors = importVectors(listOfVectors)\n",
    "heuristic(importedVectors, 6)\n"
   ]
  },
  {
   "cell_type": "markdown",
   "id": "f6df6384",
   "metadata": {},
   "source": [
    "1)Es kommt auf die Auswahl des ersten Punktes an. Aber meistens sind es ein sehr großes Cluster mit ungefähr 85 Genen, 1 mittelgroßes Cluster mit ungefähr 50 Genen und 4 kleinere mit 2-20 Genen.\n",
    "\n",
    "2)Da sie zu Doppelungen in den Centern führen können aufgrund ihrer Hohen Distanz zu vielen anderen Punkten. Sprich sie werden Häufiger betrachtet aufgrund ihrer Distanz und der MAXDISTANCE Funktion in der Heuristik\n",
    "\n",
    "3)O(nlogn)\n",
    "\n",
    "4)Das betrachten von typischen/mittleren quadratischen Abweichungen anstatt der maximalen wie beim k-Center durch die Distrortion Funktion\n",
    "\n",
    "5)Center of Gravity Theorem / Schwerpunkt aller DatenPunkte"
   ]
  }
 ],
 "metadata": {
  "kernelspec": {
   "display_name": "Python 3 (ipykernel)",
   "language": "python",
   "name": "python3"
  },
  "language_info": {
   "codemirror_mode": {
    "name": "ipython",
    "version": 3
   },
   "file_extension": ".py",
   "mimetype": "text/x-python",
   "name": "python",
   "nbconvert_exporter": "python",
   "pygments_lexer": "ipython3",
   "version": "3.9.12"
  }
 },
 "nbformat": 4,
 "nbformat_minor": 5
}
